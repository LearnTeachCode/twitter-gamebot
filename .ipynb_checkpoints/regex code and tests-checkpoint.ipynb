{
 "cells": [
  {
   "cell_type": "code",
   "execution_count": 50,
   "metadata": {
    "collapsed": false
   },
   "outputs": [],
   "source": [
    "import re\n",
    "\n",
    "def parseCommands(tweet):\n",
    "    if re.match(\".*game\\s*start.*\",tweet,re.IGNORECASE):\n",
    "        print \"game start\"\n",
    "    elif re.match(\"game play\",tweet,re.IGNORECASE):\n",
    "        print re.match(\".*game\\s*play\\s*(.+)\\s*end.*\",tweet,re.IGNORECASE).group(1)\n",
    "    elif re.match(\".*game\\s*resign.*\",tweet,re.IGNORECASE):\n",
    "        print \"game resign\"\n",
    "        \n",
    "def parseTicTacToeMove(gameMove):\n",
    "    valid = re.match(\".*([xo])\\s*in\\s*(top|center|middle|bottom)\\s*(left|center|middle|right).*\",gameMove,re.IGNORECASE)\n",
    "    if valid:\n",
    "        print \"valid move\", valid.groups()\n",
    "    else:\n",
    "        print \"invalid move\""
   ]
  },
  {
   "cell_type": "code",
   "execution_count": 53,
   "metadata": {
    "collapsed": false
   },
   "outputs": [
    {
     "name": "stdout",
     "output_type": "stream",
     "text": [
      "game start\n",
      "move details put here \n",
      "game resign\n",
      "valid move ('x', 'top', 'center')\n"
     ]
    }
   ],
   "source": [
    "parseCommands(\"game start okay this game name\")\n",
    "parseCommands(\"game play move details put here end\")\n",
    "parseCommands(\"okay game resign\")\n",
    "\n",
    "parseTicTacToeMove(\"stuff x in top center left\")"
   ]
  },
  {
   "cell_type": "code",
   "execution_count": null,
   "metadata": {
    "collapsed": true
   },
   "outputs": [],
   "source": []
  }
 ],
 "metadata": {
  "kernelspec": {
   "display_name": "Python 2",
   "language": "python",
   "name": "python2"
  },
  "language_info": {
   "codemirror_mode": {
    "name": "ipython",
    "version": 2
   },
   "file_extension": ".py",
   "mimetype": "text/x-python",
   "name": "python",
   "nbconvert_exporter": "python",
   "pygments_lexer": "ipython2",
   "version": "2.7.6"
  }
 },
 "nbformat": 4,
 "nbformat_minor": 0
}
