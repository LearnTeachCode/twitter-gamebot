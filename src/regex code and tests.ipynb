{
 "cells": [
  {
   "cell_type": "code",
   "execution_count": 5,
   "metadata": {
    "collapsed": false
   },
   "outputs": [],
   "source": [
    "import re\n",
    "\n",
    "def parseCommands(tweet):\n",
    "    tweet = tweet.lower()\n",
    "    if re.match(\"(.*game.*start.*)|(.*start.*game.*)\",tweet):\n",
    "        return \"game start\"\n",
    "    elif re.match(\".*game.*play.+\",tweet):#assuming it's tic tac toe we're talking about\n",
    "        return parseTicTacToeMove(re.match(\".*game.*play\\s*(.+)\\s*end.*\",tweet).group(1))\n",
    "    elif re.match(\"(.*game.*resign.*)|(.*resign.*game.*)\",tweet):\n",
    "        return \"game resign\"\n",
    "    else:\n",
    "        return -1\n",
    "\n",
    "def parseChess(gameMove):\n",
    "    valid = re.match(\".*([a-z])([0-9]).*([a-z])([0-9]).*\",gameMove)\n",
    "    if valid:\n",
    "        return valid.groups()\n",
    "    else:\n",
    "        return -1\n",
    "        \n",
    "def parseBattleShip(gameMove):\n",
    "    valid = re.match(\".*hit.* \",gameMove)#wait how do you play this game again?\n",
    "    if valid:\n",
    "        return valid.groups()\n",
    "    else:\n",
    "        return -1\n",
    "\n",
    "def parseTicTacToeMove(gameMove):\n",
    "    valid = re.match(\".*([xo]).*(top|center|middle|bottom).*(left|center|middle|right).*\",gameMove)\n",
    "    if valid:\n",
    "        return valid.groups()\n",
    "    else:\n",
    "        return -1"
   ]
  },
  {
   "cell_type": "code",
   "execution_count": 6,
   "metadata": {
    "collapsed": false
   },
   "outputs": [
    {
     "name": "stdout",
     "output_type": "stream",
     "text": [
      "('x', 'top', 'right')\n",
      "-1\n",
      "-1\n",
      "game start\n",
      "game start\n",
      "game start\n",
      "game resign\n",
      "-1\n",
      "game start\n"
     ]
    }
   ],
   "source": [
    "inputs = [\n",
    "    \"game play move the x in the top right corner end\",\n",
    "    \"\",\n",
    "    \"hello there\",\n",
    "    \"game start\",\n",
    "    \"start the game\",\n",
    "    \"okay let's play the game, start\",\n",
    "    \"I resign the game\",\n",
    "    \"this game sucks\",\n",
    "    \"start game play the x in the top right corner\"\n",
    "    #trying to do two things at once does first thing instead\n",
    "         ]\n",
    "\n",
    "for i in inputs:\n",
    "    print parseCommands(i)"
   ]
  },
  {
   "cell_type": "code",
   "execution_count": null,
   "metadata": {
    "collapsed": true
   },
   "outputs": [],
   "source": []
  }
 ],
 "metadata": {
  "kernelspec": {
   "display_name": "Python 2",
   "language": "python",
   "name": "python2"
  },
  "language_info": {
   "codemirror_mode": {
    "name": "ipython",
    "version": 2
   },
   "file_extension": ".py",
   "mimetype": "text/x-python",
   "name": "python",
   "nbconvert_exporter": "python",
   "pygments_lexer": "ipython2",
   "version": "2.7.6"
  }
 },
 "nbformat": 4,
 "nbformat_minor": 0
}
